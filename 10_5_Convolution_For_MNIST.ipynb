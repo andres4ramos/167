{
  "nbformat": 4,
  "nbformat_minor": 0,
  "metadata": {
    "colab": {
      "provenance": [],
      "include_colab_link": true
    },
    "kernelspec": {
      "name": "python3",
      "display_name": "Python 3"
    },
    "language_info": {
      "name": "python"
    }
  },
  "cells": [
    {
      "cell_type": "markdown",
      "metadata": {
        "id": "view-in-github",
        "colab_type": "text"
      },
      "source": [
        "<a href=\"https://colab.research.google.com/github/andres4ramos/167/blob/main/10_5_Convolution_For_MNIST.ipynb\" target=\"_parent\"><img src=\"https://colab.research.google.com/assets/colab-badge.svg\" alt=\"Open In Colab\"/></a>"
      ]
    },
    {
      "cell_type": "markdown",
      "source": [
        "# **Notebook 10.5: Convolution for MNIST**\n",
        "\n",
        "This notebook builds a proper network for 2D convolution.  It works with the MNIST dataset (figure 15.15a), which was the original classic dataset for classifying images.  The network will take a 28x28 grayscale image and classify it into one of 10 classes representing a digit.\n",
        "\n",
        "The code is adapted from https://nextjournal.com/gkoehler/pytorch-mnist\n",
        "\n",
        "Work through the cells below, running each cell in turn. In various places you will see the words \"TO DO\". Follow the instructions at these places and make predictions about what is going to happen or write code to complete the functions.\n",
        "\n",
        "Contact me at udlbookmail@gmail.com if you find any mistakes or have any suggestions.\n"
      ],
      "metadata": {
        "id": "t9vk9Elugvmi"
      }
    },
    {
      "cell_type": "code",
      "source": [
        "import torch\n",
        "import torchvision\n",
        "import torch.nn as nn\n",
        "import torch.nn.functional as F\n",
        "import torch.optim as optim\n",
        "import matplotlib.pyplot as plt\n",
        "import random"
      ],
      "metadata": {
        "id": "YrXWAH7sUWvU"
      },
      "execution_count": 1,
      "outputs": []
    },
    {
      "cell_type": "code",
      "source": [
        "\n",
        "\n",
        "# Set batch sizes for training and test data\n",
        "batch_size_train = 64\n",
        "batch_size_test = 1000\n",
        "\n",
        "# Directory to save/download the MNIST data\n",
        "myDir = '/files/'  # Change this path to a valid directory on your machine if necessary\n",
        "\n",
        "# Define transformations: Convert to tensor and normalize data\n",
        "transform = transforms.Compose([\n",
        "    transforms.ToTensor(),\n",
        "    transforms.Normalize((0.1307,), (0.3081,))  # Normalize with mean and std of MNIST dataset\n",
        "])\n",
        "\n",
        "# Load training data\n",
        "train_loader = torch.utils.data.DataLoader(\n",
        "    torchvision.datasets.MNIST(\n",
        "        myDir, train=True, download=True, transform=transform\n",
        "    ),\n",
        "    batch_size=batch_size_train,\n",
        "    shuffle=True\n",
        ")\n",
        "\n",
        "# Load test data\n",
        "test_loader = torch.utils.data.DataLoader(\n",
        "    torchvision.datasets.MNIST(\n",
        "        myDir, train=False, download=True, transform=transform\n",
        "    ),\n",
        "    batch_size=batch_size_test,\n",
        "    shuffle=True\n",
        ")\n",
        "\n",
        "# Check data loading\n",
        "for (images, labels) in train_loader:\n",
        "    print(f\"Batch size: {images.size()}, Labels: {labels.size()}\")\n",
        "    break\n"
      ],
      "metadata": {
        "id": "wScBGXXFVadm",
        "colab": {
          "base_uri": "https://localhost:8080/"
        },
        "outputId": "16d0fb29-5d7f-4c4e-e51f-d991bf618718"
      },
      "execution_count": 3,
      "outputs": [
        {
          "output_type": "stream",
          "name": "stdout",
          "text": [
            "Batch size: torch.Size([64, 1, 28, 28]), Labels: torch.Size([64])\n"
          ]
        }
      ]
    },
    {
      "cell_type": "code",
      "source": [
        "# Let's draw some of the training data\n",
        "examples = enumerate(test_loader)\n",
        "batch_idx, (example_data, example_targets) = next(examples)\n",
        "\n",
        "fig = plt.figure()\n",
        "for i in range(6):\n",
        "  plt.subplot(2,3,i+1)\n",
        "  plt.tight_layout()\n",
        "  plt.imshow(example_data[i][0], cmap='gray', interpolation='none')\n",
        "  plt.title(\"Ground Truth: {}\".format(example_targets[i]))\n",
        "  plt.xticks([])\n",
        "  plt.yticks([])\n",
        "plt.show()"
      ],
      "metadata": {
        "id": "8bKADvLHbiV5",
        "colab": {
          "base_uri": "https://localhost:8080/",
          "height": 438
        },
        "outputId": "8c3945f3-84f4-42ce-9cdc-e7b52b9df0b9"
      },
      "execution_count": 4,
      "outputs": [
        {
          "output_type": "display_data",
          "data": {
            "text/plain": [
              "<Figure size 640x480 with 6 Axes>"
            ],
            "image/png": "[encoded data removed]"
          },
          "metadata": {}
        }
      ]
    },
    {
      "cell_type": "markdown",
      "source": [
        "Define the network.  This is a more typical way to define a network than the sequential structure.  We define a class for the network, and define the parameters in the constructor.  Then we use a function called forward to actually run the network.  It's easy to see how you might use residual connections in this format."
      ],
      "metadata": {
        "id": "_sFvRDGrl4qe"
      }
    },
    {
      "cell_type": "code",
      "source": [
        "\n",
        "\n",
        "class Net(nn.Module):\n",
        "    def __init__(self):\n",
        "        super(Net, self).__init__()\n",
        "\n",
        "        # 1. First convolution layer: 1 input channel, 10 output channels, kernel size 5\n",
        "        self.conv1 = nn.Conv2d(1, 10, kernel_size=5)\n",
        "\n",
        "        # 2. Max pooling layer over a 2x2 area (for down-sampling)\n",
        "        self.pool = nn.MaxPool2d(2, 2)\n",
        "\n",
        "        # 4. Second convolution layer: 10 input channels, 20 output channels, kernel size 5\n",
        "        self.conv2 = nn.Conv2d(10, 20, kernel_size=5)\n",
        "\n",
        "        # 5. 2D Dropout layer to reduce overfitting\n",
        "        self.drop = nn.Dropout2d()\n",
        "\n",
        "        # 9. Fully connected layer mapping from (320 dimensions here) to 50\n",
        "        self.fc1 = nn.Linear(320, 50)\n",
        "\n",
        "        # 11. Fully connected layer mapping from 50 to 10 (output classes)\n",
        "        self.fc2 = nn.Linear(50, 10)\n",
        "\n",
        "    def forward(self, x):\n",
        "        # 1. Convolution -> 3. ReLU -> 2. Max Pooling\n",
        "        x = self.pool(F.relu(self.conv1(x)))\n",
        "\n",
        "        # 4. Second Convolution -> 7. ReLU -> 6. Max Pooling\n",
        "        x = self.pool(F.relu(self.conv2(x)))\n",
        "\n",
        "        # 5. Dropout for regularization\n",
        "        x = self.drop(x)\n",
        "\n",
        "        # 8. Flattening the tensor for the fully connected layers\n",
        "        x = x.view(-1, 320)  # Flattening the tensor to match input of fc1\n",
        "\n",
        "        # 9. Fully connected layer -> 10. ReLU\n",
        "        x = F.relu(self.fc1(x))\n",
        "\n",
        "        # 11. Second fully connected layer\n",
        "        x = self.fc2(x)\n",
        "\n",
        "        # 12. Softmax activation for output layer\n",
        "        x = F.log_softmax(x, dim=1)\n",
        "\n",
        "        return x\n"
      ],
      "metadata": {
        "id": "EQkvw2KOPVl7"
      },
      "execution_count": 6,
      "outputs": []
    },
    {
      "cell_type": "code",
      "source": [
        "# He initialization of weights\n",
        "def weights_init(layer_in):\n",
        "  if isinstance(layer_in, nn.Linear):\n",
        "    nn.init.kaiming_uniform_(layer_in.weight)\n",
        "    layer_in.bias.data.fill_(0.0)"
      ],
      "metadata": {
        "id": "qWZtkCZcU_dg"
      },
      "execution_count": 7,
      "outputs": []
    },
    {
      "cell_type": "code",
      "source": [
        "# Create network\n",
        "model = Net()\n",
        "# Initialize model weights\n",
        "model.apply(weights_init)\n",
        "# Define optimizer\n",
        "optimizer = optim.SGD(model.parameters(), lr=0.01, momentum=0.5)"
      ],
      "metadata": {
        "id": "FslroPJJffrh"
      },
      "execution_count": 8,
      "outputs": []
    },
    {
      "cell_type": "code",
      "source": [
        "# Main training routine\n",
        "def train(epoch):\n",
        "  model.train()\n",
        "  # Get each\n",
        "  for batch_idx, (data, target) in enumerate(train_loader):\n",
        "    optimizer.zero_grad()\n",
        "    output = model(data)\n",
        "    loss = F.nll_loss(output, target)\n",
        "    loss.backward()\n",
        "    optimizer.step()\n",
        "    # Store results\n",
        "    if batch_idx % 10 == 0:\n",
        "      print('Train Epoch: {} [{}/{}]\\tLoss: {:.6f}'.format(\n",
        "        epoch, batch_idx * len(data), len(train_loader.dataset), loss.item()))"
      ],
      "metadata": {
        "id": "xKQd9PzkQ766"
      },
      "execution_count": 9,
      "outputs": []
    },
    {
      "cell_type": "code",
      "source": [
        "# Run on test data\n",
        "def test():\n",
        "  model.eval()\n",
        "  test_loss = 0\n",
        "  correct = 0\n",
        "  with torch.no_grad():\n",
        "    for data, target in test_loader:\n",
        "      output = model(data)\n",
        "      test_loss += F.nll_loss(output, target, size_average=False).item()\n",
        "      pred = output.data.max(1, keepdim=True)[1]\n",
        "      correct += pred.eq(target.data.view_as(pred)).sum()\n",
        "  test_loss /= len(test_loader.dataset)\n",
        "  print('\\nTest set: Avg. loss: {:.4f}, Accuracy: {}/{} ({:.0f}%)\\n'.format(\n",
        "    test_loss, correct, len(test_loader.dataset),\n",
        "    100. * correct / len(test_loader.dataset)))"
      ],
      "metadata": {
        "id": "Byn-f7qWRLxX"
      },
      "execution_count": 10,
      "outputs": []
    },
    {
      "cell_type": "code",
      "source": [
        "# Get initial performance\n",
        "test()\n",
        "# Train for three epochs\n",
        "n_epochs = 3\n",
        "for epoch in range(1, n_epochs + 1):\n",
        "  train(epoch)\n",
        "  test()"
      ],
      "metadata": {
        "id": "YgLaex1pfhqz",
        "colab": {
          "base_uri": "https://localhost:8080/"
        },
        "outputId": "9dafd5b0-2431-4f36-ece7-dabc4fd7860b"
      },
      "execution_count": null,
      "outputs": [
        {
          "output_type": "stream",
          "name": "stderr",
          "text": [
            "/usr/local/lib/python3.10/dist-packages/torch/nn/_reduction.py:51: UserWarning: size_average and reduce args will be deprecated, please use reduction='sum' instead.\n",
            "  warnings.warn(warning.format(ret))\n"
          ]
        },
        {
          "output_type": "stream",
          "name": "stdout",
          "text": [
            "\n",
            "Test set: Avg. loss: 2.3960, Accuracy: 992/10000 (10%)\n",
            "\n",
            "Train Epoch: 1 [0/60000]\tLoss: 2.462214\n",
            "Train Epoch: 1 [640/60000]\tLoss: 2.236007\n",
            "Train Epoch: 1 [1280/60000]\tLoss: 2.137291\n",
            "Train Epoch: 1 [1920/60000]\tLoss: 2.028086\n",
            "Train Epoch: 1 [2560/60000]\tLoss: 2.012391\n",
            "Train Epoch: 1 [3200/60000]\tLoss: 1.759601\n",
            "Train Epoch: 1 [3840/60000]\tLoss: 1.682634\n",
            "Train Epoch: 1 [4480/60000]\tLoss: 1.357158\n",
            "Train Epoch: 1 [5120/60000]\tLoss: 1.253560\n",
            "Train Epoch: 1 [5760/60000]\tLoss: 1.308620\n",
            "Train Epoch: 1 [6400/60000]\tLoss: 0.910074\n",
            "Train Epoch: 1 [7040/60000]\tLoss: 0.832123\n",
            "Train Epoch: 1 [7680/60000]\tLoss: 0.723807\n",
            "Train Epoch: 1 [8320/60000]\tLoss: 0.777384\n",
            "Train Epoch: 1 [8960/60000]\tLoss: 0.698991\n",
            "Train Epoch: 1 [9600/60000]\tLoss: 0.933884\n",
            "Train Epoch: 1 [10240/60000]\tLoss: 0.659414\n",
            "Train Epoch: 1 [10880/60000]\tLoss: 0.933144\n",
            "Train Epoch: 1 [11520/60000]\tLoss: 0.853056\n",
            "Train Epoch: 1 [12160/60000]\tLoss: 0.468219\n",
            "Train Epoch: 1 [12800/60000]\tLoss: 0.676275\n",
            "Train Epoch: 1 [13440/60000]\tLoss: 0.623728\n",
            "Train Epoch: 1 [14080/60000]\tLoss: 0.525894\n",
            "Train Epoch: 1 [14720/60000]\tLoss: 0.552680\n",
            "Train Epoch: 1 [15360/60000]\tLoss: 0.574233\n",
            "Train Epoch: 1 [16000/60000]\tLoss: 0.414726\n",
            "Train Epoch: 1 [16640/60000]\tLoss: 0.336699\n",
            "Train Epoch: 1 [17280/60000]\tLoss: 0.452714\n",
            "Train Epoch: 1 [17920/60000]\tLoss: 0.228482\n",
            "Train Epoch: 1 [18560/60000]\tLoss: 0.324174\n",
            "Train Epoch: 1 [19200/60000]\tLoss: 0.557764\n",
            "Train Epoch: 1 [19840/60000]\tLoss: 0.456604\n",
            "Train Epoch: 1 [20480/60000]\tLoss: 0.401745\n",
            "Train Epoch: 1 [21120/60000]\tLoss: 0.472423\n",
            "Train Epoch: 1 [21760/60000]\tLoss: 0.413321\n",
            "Train Epoch: 1 [22400/60000]\tLoss: 0.350744\n",
            "Train Epoch: 1 [23040/60000]\tLoss: 0.470763\n",
            "Train Epoch: 1 [23680/60000]\tLoss: 0.535537\n",
            "Train Epoch: 1 [24320/60000]\tLoss: 0.340954\n",
            "Train Epoch: 1 [24960/60000]\tLoss: 0.351802\n",
            "Train Epoch: 1 [25600/60000]\tLoss: 0.283666\n",
            "Train Epoch: 1 [26240/60000]\tLoss: 0.479288\n",
            "Train Epoch: 1 [26880/60000]\tLoss: 0.492918\n",
            "Train Epoch: 1 [27520/60000]\tLoss: 0.398414\n",
            "Train Epoch: 1 [28160/60000]\tLoss: 0.313578\n",
            "Train Epoch: 1 [28800/60000]\tLoss: 0.242666\n",
            "Train Epoch: 1 [29440/60000]\tLoss: 0.197519\n",
            "Train Epoch: 1 [30080/60000]\tLoss: 0.271924\n",
            "Train Epoch: 1 [30720/60000]\tLoss: 0.377380\n",
            "Train Epoch: 1 [31360/60000]\tLoss: 0.420175\n",
            "Train Epoch: 1 [32000/60000]\tLoss: 0.162656\n",
            "Train Epoch: 1 [32640/60000]\tLoss: 0.126344\n",
            "Train Epoch: 1 [33280/60000]\tLoss: 0.619292\n",
            "Train Epoch: 1 [33920/60000]\tLoss: 0.429886\n",
            "Train Epoch: 1 [34560/60000]\tLoss: 0.152992\n",
            "Train Epoch: 1 [35200/60000]\tLoss: 0.318389\n",
            "Train Epoch: 1 [35840/60000]\tLoss: 0.133132\n",
            "Train Epoch: 1 [36480/60000]\tLoss: 0.386030\n",
            "Train Epoch: 1 [37120/60000]\tLoss: 0.236246\n",
            "Train Epoch: 1 [37760/60000]\tLoss: 0.275249\n",
            "Train Epoch: 1 [38400/60000]\tLoss: 0.401994\n",
            "Train Epoch: 1 [39040/60000]\tLoss: 0.299304\n",
            "Train Epoch: 1 [39680/60000]\tLoss: 0.484142\n",
            "Train Epoch: 1 [40320/60000]\tLoss: 0.288294\n",
            "Train Epoch: 1 [40960/60000]\tLoss: 0.283020\n",
            "Train Epoch: 1 [41600/60000]\tLoss: 0.287029\n",
            "Train Epoch: 1 [42240/60000]\tLoss: 0.238162\n",
            "Train Epoch: 1 [42880/60000]\tLoss: 0.192686\n",
            "Train Epoch: 1 [43520/60000]\tLoss: 0.379188\n",
            "Train Epoch: 1 [44160/60000]\tLoss: 0.310223\n",
            "Train Epoch: 1 [44800/60000]\tLoss: 0.364854\n",
            "Train Epoch: 1 [45440/60000]\tLoss: 0.248801\n",
            "Train Epoch: 1 [46080/60000]\tLoss: 0.291205\n",
            "Train Epoch: 1 [46720/60000]\tLoss: 0.456710\n",
            "Train Epoch: 1 [47360/60000]\tLoss: 0.480596\n",
            "Train Epoch: 1 [48000/60000]\tLoss: 0.340220\n",
            "Train Epoch: 1 [48640/60000]\tLoss: 0.334147\n",
            "Train Epoch: 1 [49280/60000]\tLoss: 0.349268\n",
            "Train Epoch: 1 [49920/60000]\tLoss: 0.360887\n",
            "Train Epoch: 1 [50560/60000]\tLoss: 0.429287\n",
            "Train Epoch: 1 [51200/60000]\tLoss: 0.265427\n",
            "Train Epoch: 1 [51840/60000]\tLoss: 0.409141\n",
            "Train Epoch: 1 [52480/60000]\tLoss: 0.355606\n",
            "Train Epoch: 1 [53120/60000]\tLoss: 0.310038\n",
            "Train Epoch: 1 [53760/60000]\tLoss: 0.405832\n",
            "Train Epoch: 1 [54400/60000]\tLoss: 0.156846\n",
            "Train Epoch: 1 [55040/60000]\tLoss: 0.281551\n",
            "Train Epoch: 1 [55680/60000]\tLoss: 0.160042\n",
            "Train Epoch: 1 [56320/60000]\tLoss: 0.225535\n",
            "Train Epoch: 1 [56960/60000]\tLoss: 0.298267\n",
            "Train Epoch: 1 [57600/60000]\tLoss: 0.224052\n",
            "Train Epoch: 1 [58240/60000]\tLoss: 0.311639\n",
            "Train Epoch: 1 [58880/60000]\tLoss: 0.170525\n",
            "Train Epoch: 1 [59520/60000]\tLoss: 0.284532\n"
          ]
        }
      ]
    },
    {
      "cell_type": "code",
      "source": [
        "# Run network on data we got before and show predictions\n",
        "output = model(example_data)\n",
        "\n",
        "fig = plt.figure()\n",
        "for i in range(10):\n",
        "  plt.subplot(5,5,i+1)\n",
        "  plt.tight_layout()\n",
        "  plt.imshow(example_data[i][0], cmap='gray', interpolation='none')\n",
        "  plt.title(\"Prediction: {}\".format(\n",
        "    output.data.max(1, keepdim=True)[1][i].item()))\n",
        "  plt.xticks([])\n",
        "  plt.yticks([])\n",
        "plt.show()"
      ],
      "metadata": {
        "id": "o7fRUAy9Se1B"
      },
      "execution_count": null,
      "outputs": []
    }
  ]
}