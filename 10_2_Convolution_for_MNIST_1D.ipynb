{
  "nbformat": 4,
  "nbformat_minor": 0,
  "metadata": {
    "colab": {
      "provenance": [],
      "include_colab_link": true
    },
    "kernelspec": {
      "name": "python3",
      "display_name": "Python 3"
    },
    "language_info": {
      "name": "python"
    }
  },
  "cells": [
    {
      "cell_type": "markdown",
      "metadata": {
        "id": "view-in-github",
        "colab_type": "text"
      },
      "source": [
        "<a href=\"https://colab.research.google.com/github/andres4ramos/167/blob/main/10_2_Convolution_for_MNIST_1D.ipynb\" target=\"_parent\"><img src=\"https://colab.research.google.com/assets/colab-badge.svg\" alt=\"Open In Colab\"/></a>"
      ]
    },
    {
      "cell_type": "markdown",
      "source": [
        "# **Notebook 10.2: Convolution for MNIST-1D**\n",
        "\n",
        "This notebook investigates a 1D convolutional network for MNIST-1D as in figure 10.7 and 10.8a.\n",
        "\n",
        "Work through the cells below, running each cell in turn. In various places you will see the words \"TO DO\". Follow the instructions at these places and make predictions about what is going to happen or write code to complete the functions.\n",
        "\n",
        "Contact me at udlbookmail@gmail.com if you find any mistakes or have any suggestions.\n",
        "\n"
      ],
      "metadata": {
        "id": "t9vk9Elugvmi"
      }
    },
    {
      "cell_type": "code",
      "source": [
        "# Run this if you're in a Colab to install MNIST 1D repository\n",
        "!pip install git+https://github.com/greydanus/mnist1d"
      ],
      "metadata": {
        "id": "D5yLObtZCi9J",
        "colab": {
          "base_uri": "https://localhost:8080/"
        },
        "outputId": "e90abb01-12ef-4005-e9a7-b4530552000c"
      },
      "execution_count": 8,
      "outputs": [
        {
          "output_type": "stream",
          "name": "stdout",
          "text": [
            "Collecting git+https://github.com/greydanus/mnist1d\n",
            "  Cloning https://github.com/greydanus/mnist1d to /tmp/pip-req-build-66djm1a8\n",
            "  Running command git clone --filter=blob:none --quiet https://github.com/greydanus/mnist1d /tmp/pip-req-build-66djm1a8\n",
            "  Resolved https://github.com/greydanus/mnist1d to commit 7878d96082abd200c546a07a4101fa90b30fdf7e\n",
            "  Installing build dependencies ... \u001b[?25l\u001b[?25hdone\n",
            "  Getting requirements to build wheel ... \u001b[?25l\u001b[?25hdone\n",
            "  Preparing metadata (pyproject.toml) ... \u001b[?25l\u001b[?25hdone\n",
            "Requirement already satisfied: requests in /usr/local/lib/python3.10/dist-packages (from mnist1d==0.0.2.post16) (2.32.3)\n",
            "Requirement already satisfied: numpy in /usr/local/lib/python3.10/dist-packages (from mnist1d==0.0.2.post16) (1.26.4)\n",
            "Requirement already satisfied: matplotlib in /usr/local/lib/python3.10/dist-packages (from mnist1d==0.0.2.post16) (3.8.0)\n",
            "Requirement already satisfied: scipy in /usr/local/lib/python3.10/dist-packages (from mnist1d==0.0.2.post16) (1.13.1)\n",
            "Requirement already satisfied: contourpy>=1.0.1 in /usr/local/lib/python3.10/dist-packages (from matplotlib->mnist1d==0.0.2.post16) (1.3.0)\n",
            "Requirement already satisfied: cycler>=0.10 in /usr/local/lib/python3.10/dist-packages (from matplotlib->mnist1d==0.0.2.post16) (0.12.1)\n",
            "Requirement already satisfied: fonttools>=4.22.0 in /usr/local/lib/python3.10/dist-packages (from matplotlib->mnist1d==0.0.2.post16) (4.54.1)\n",
            "Requirement already satisfied: kiwisolver>=1.0.1 in /usr/local/lib/python3.10/dist-packages (from matplotlib->mnist1d==0.0.2.post16) (1.4.7)\n",
            "Requirement already satisfied: packaging>=20.0 in /usr/local/lib/python3.10/dist-packages (from matplotlib->mnist1d==0.0.2.post16) (24.1)\n",
            "Requirement already satisfied: pillow>=6.2.0 in /usr/local/lib/python3.10/dist-packages (from matplotlib->mnist1d==0.0.2.post16) (10.4.0)\n",
            "Requirement already satisfied: pyparsing>=2.3.1 in /usr/local/lib/python3.10/dist-packages (from matplotlib->mnist1d==0.0.2.post16) (3.2.0)\n",
            "Requirement already satisfied: python-dateutil>=2.7 in /usr/local/lib/python3.10/dist-packages (from matplotlib->mnist1d==0.0.2.post16) (2.8.2)\n",
            "Requirement already satisfied: charset-normalizer<4,>=2 in /usr/local/lib/python3.10/dist-packages (from requests->mnist1d==0.0.2.post16) (3.4.0)\n",
            "Requirement already satisfied: idna<4,>=2.5 in /usr/local/lib/python3.10/dist-packages (from requests->mnist1d==0.0.2.post16) (3.10)\n",
            "Requirement already satisfied: urllib3<3,>=1.21.1 in /usr/local/lib/python3.10/dist-packages (from requests->mnist1d==0.0.2.post16) (2.2.3)\n",
            "Requirement already satisfied: certifi>=2017.4.17 in /usr/local/lib/python3.10/dist-packages (from requests->mnist1d==0.0.2.post16) (2024.8.30)\n",
            "Requirement already satisfied: six>=1.5 in /usr/local/lib/python3.10/dist-packages (from python-dateutil>=2.7->matplotlib->mnist1d==0.0.2.post16) (1.16.0)\n"
          ]
        }
      ]
    },
    {
      "cell_type": "code",
      "source": [
        "import numpy as np\n",
        "import os\n",
        "import torch, torch.nn as nn\n",
        "from torch.utils.data import TensorDataset, DataLoader\n",
        "from torch.optim.lr_scheduler import StepLR\n",
        "import matplotlib.pyplot as plt\n",
        "import mnist1d\n",
        "import random"
      ],
      "metadata": {
        "id": "YrXWAH7sUWvU"
      },
      "execution_count": 9,
      "outputs": []
    },
    {
      "cell_type": "code",
      "source": [
        "args = mnist1d.data.get_dataset_args()\n",
        "data = mnist1d.data.get_dataset(args, path='./mnist1d_data.pkl', download=False, regenerate=False)\n",
        "\n",
        "# The training and test input and outputs are in\n",
        "# data['x'], data['y'], data['x_test'], and data['y_test']\n",
        "print(\"Examples in training set: {}\".format(len(data['y'])))\n",
        "print(\"Examples in test set: {}\".format(len(data['y_test'])))\n",
        "print(\"Length of each example: {}\".format(data['x'].shape[-1]))"
      ],
      "metadata": {
        "id": "twI72ZCrCt5z",
        "colab": {
          "base_uri": "https://localhost:8080/"
        },
        "outputId": "1e805bab-1965-4a1c-d5cc-f1dc01d6d961"
      },
      "execution_count": 3,
      "outputs": [
        {
          "output_type": "stream",
          "name": "stdout",
          "text": [
            "Did or could not load data from ./mnist1d_data.pkl. Rebuilding dataset...\n",
            "Examples in training set: 4000\n",
            "Examples in test set: 1000\n",
            "Length of each example: 40\n"
          ]
        }
      ]
    },
    {
      "cell_type": "code",
      "source": [
        "# Load in the data\n",
        "train_data_x = data['x'].transpose()\n",
        "train_data_y = data['y']\n",
        "val_data_x = data['x_test'].transpose()\n",
        "val_data_y = data['y_test']\n",
        "# Print out sizes\n",
        "print(\"Train data: %d examples (columns), each of which has %d dimensions (rows)\"%((train_data_x.shape[1],train_data_x.shape[0])))\n",
        "print(\"Validation data: %d examples (columns), each of which has %d dimensions (rows)\"%((val_data_x.shape[1],val_data_x.shape[0])))"
      ],
      "metadata": {
        "id": "8bKADvLHbiV5",
        "colab": {
          "base_uri": "https://localhost:8080/"
        },
        "outputId": "7749c624-2c0f-4045-8c7a-a9685e543b4a"
      },
      "execution_count": 4,
      "outputs": [
        {
          "output_type": "stream",
          "name": "stdout",
          "text": [
            "Train data: 4000 examples (columns), each of which has 40 dimensions (rows)\n",
            "Validation data: 1000 examples (columns), each of which has 40 dimensions (rows)\n"
          ]
        }
      ]
    },
    {
      "cell_type": "markdown",
      "source": [
        "Define the network"
      ],
      "metadata": {
        "id": "_sFvRDGrl4qe"
      }
    },
    {
      "cell_type": "code",
      "source": [
        "\n",
        "\n",
        "D_i = 40\n",
        "D_o = 10\n",
        "\n",
        "model = nn.Sequential(\n",
        "    # 1. First Convolutional layer (input length=40, 1 channel, kernel size=3, stride=2, padding=\"valid\", 15 output channels)\n",
        "    nn.Conv1d(in_channels=1, out_channels=15, kernel_size=3, stride=2, padding=0),\n",
        "    # 2. ReLU activation\n",
        "    nn.ReLU(),\n",
        "\n",
        "    # 3. Second Convolutional layer (input length=19, 15 channels, kernel size=3, stride=2, padding=\"valid\", 15 output channels)\n",
        "    nn.Conv1d(in_channels=15, out_channels=15, kernel_size=3, stride=2, padding=0),\n",
        "    # 4. ReLU activation\n",
        "    nn.ReLU(),\n",
        "\n",
        "    # 5. Third Convolutional layer (input length=9, 15 channels, kernel size=3, stride=2, padding=\"valid\", 15 output channels)\n",
        "    nn.Conv1d(in_channels=15, out_channels=15, kernel_size=3, stride=2, padding=0),\n",
        "    # 6. ReLU activation\n",
        "    nn.ReLU(),\n",
        "\n",
        "    # 7. Flatten layer (converts output from 4x15 to a flat vector of length 60)\n",
        "    nn.Flatten(),\n",
        "\n",
        "    # 8. Linear layer (input size = 60, output size = 10)\n",
        "    nn.Linear(4 * 15, D_o)\n",
        ")\n",
        "\n",
        "print(model)\n"
      ],
      "metadata": {
        "id": "FslroPJJffrh",
        "colab": {
          "base_uri": "https://localhost:8080/"
        },
        "outputId": "294c635a-26a0-44a5-9f54-efcf8745effd"
      },
      "execution_count": 5,
      "outputs": [
        {
          "output_type": "stream",
          "name": "stdout",
          "text": [
            "Sequential(\n",
            "  (0): Conv1d(1, 15, kernel_size=(3,), stride=(2,))\n",
            "  (1): ReLU()\n",
            "  (2): Conv1d(15, 15, kernel_size=(3,), stride=(2,))\n",
            "  (3): ReLU()\n",
            "  (4): Conv1d(15, 15, kernel_size=(3,), stride=(2,))\n",
            "  (5): ReLU()\n",
            "  (6): Flatten(start_dim=1, end_dim=-1)\n",
            "  (7): Linear(in_features=60, out_features=10, bias=True)\n",
            ")\n"
          ]
        }
      ]
    },
    {
      "cell_type": "code",
      "source": [
        "# He initialization of weights\n",
        "def weights_init(layer_in):\n",
        "  if isinstance(layer_in, nn.Linear):\n",
        "    nn.init.kaiming_uniform_(layer_in.weight)\n",
        "    layer_in.bias.data.fill_(0.0)"
      ],
      "metadata": {
        "id": "YgLaex1pfhqz"
      },
      "execution_count": 6,
      "outputs": []
    },
    {
      "cell_type": "code",
      "source": [
        "# choose cross entropy loss function (equation 5.24 in the loss notes)\n",
        "loss_function = nn.CrossEntropyLoss()\n",
        "# construct SGD optimizer and initialize learning rate and momentum\n",
        "optimizer = torch.optim.SGD(model.parameters(), lr = 0.05, momentum=0.9)\n",
        "# object that decreases learning rate by half every 20 epochs\n",
        "scheduler = StepLR(optimizer, step_size=20, gamma=0.5)\n",
        "# create 100 dummy data points and store in data loader class\n",
        "x_train = torch.tensor(train_data_x.transpose().astype('float32'))\n",
        "y_train = torch.tensor(train_data_y.astype('long')).long()\n",
        "x_val= torch.tensor(val_data_x.transpose().astype('float32'))\n",
        "y_val = torch.tensor(val_data_y.astype('long')).long()\n",
        "\n",
        "# load the data into a class that creates the batches\n",
        "data_loader = DataLoader(TensorDataset(x_train,y_train), batch_size=100, shuffle=True, worker_init_fn=np.random.seed(1))\n",
        "\n",
        "# Initialize model weights\n",
        "model.apply(weights_init)\n",
        "\n",
        "# loop over the dataset n_epoch times\n",
        "n_epoch = 100\n",
        "# store the loss and the % correct at each epoch\n",
        "losses_train = np.zeros((n_epoch))\n",
        "errors_train = np.zeros((n_epoch))\n",
        "losses_val = np.zeros((n_epoch))\n",
        "errors_val = np.zeros((n_epoch))\n",
        "\n",
        "for epoch in range(n_epoch):\n",
        "  # loop over batches\n",
        "  for i, data in enumerate(data_loader):\n",
        "    # retrieve inputs and labels for this batch\n",
        "    x_batch, y_batch = data\n",
        "    # zero the parameter gradients\n",
        "    optimizer.zero_grad()\n",
        "    # forward pass -- calculate model output\n",
        "    pred = model(x_batch[:,None,:])\n",
        "    # compute the loss\n",
        "    loss = loss_function(pred, y_batch)\n",
        "    # backward pass\n",
        "    loss.backward()\n",
        "    # SGD update\n",
        "    optimizer.step()\n",
        "\n",
        "  # Run whole dataset to get statistics -- normally wouldn't do this\n",
        "  pred_train = model(x_train[:,None,:])\n",
        "  pred_val = model(x_val[:,None,:])\n",
        "  _, predicted_train_class = torch.max(pred_train.data, 1)\n",
        "  _, predicted_val_class = torch.max(pred_val.data, 1)\n",
        "  errors_train[epoch] = 100 - 100 * (predicted_train_class == y_train).float().sum() / len(y_train)\n",
        "  errors_val[epoch]= 100 - 100 * (predicted_val_class == y_val).float().sum() / len(y_val)\n",
        "  losses_train[epoch] = loss_function(pred_train, y_train).item()\n",
        "  losses_val[epoch]= loss_function(pred_val, y_val).item()\n",
        "  print(f'Epoch {epoch:5d}, train loss {losses_train[epoch]:.6f}, train error {errors_train[epoch]:3.2f},  val loss {losses_val[epoch]:.6f}, percent error {errors_val[epoch]:3.2f}')\n",
        "\n",
        "  # tell scheduler to consider updating learning rate\n",
        "  scheduler.step()\n",
        "\n",
        "# Plot the results\n",
        "fig, ax = plt.subplots()\n",
        "ax.plot(errors_train,'r-',label='train')\n",
        "ax.plot(errors_val,'b-',label='validation')\n",
        "ax.set_ylim(0,100); ax.set_xlim(0,n_epoch)\n",
        "ax.set_xlabel('Epoch'); ax.set_ylabel('Error')\n",
        "ax.set_title('Part I: Validation Result %3.2f'%(errors_val[-1]))\n",
        "ax.legend()\n",
        "plt.show()"
      ],
      "metadata": {
        "id": "NYw8I_3mmX5c",
        "colab": {
          "base_uri": "https://localhost:8080/",
          "height": 1000
        },
        "outputId": "e4445b36-af96-428c-aa34-eaf530fb7c6b"
      },
      "execution_count": 7,
      "outputs": [
        {
          "output_type": "stream",
          "name": "stdout",
          "text": [
            "Epoch     0, train loss 1.904414, train error 74.32,  val loss 1.898643, percent error 74.80\n",
            "Epoch     1, train loss 1.460981, train error 57.83,  val loss 1.464759, percent error 61.40\n",
            "Epoch     2, train loss 1.360480, train error 52.97,  val loss 1.367510, percent error 52.50\n",
            "Epoch     3, train loss 1.372640, train error 56.05,  val loss 1.380920, percent error 58.00\n",
            "Epoch     4, train loss 1.194901, train error 45.85,  val loss 1.214682, percent error 50.60\n",
            "Epoch     5, train loss 1.036111, train error 41.10,  val loss 1.085984, percent error 45.60\n",
            "Epoch     6, train loss 0.952638, train error 38.42,  val loss 1.000674, percent error 42.50\n",
            "Epoch     7, train loss 0.962219, train error 36.42,  val loss 1.008370, percent error 39.20\n",
            "Epoch     8, train loss 0.757855, train error 29.07,  val loss 0.818341, percent error 32.30\n",
            "Epoch     9, train loss 0.698641, train error 27.18,  val loss 0.786622, percent error 29.50\n",
            "Epoch    10, train loss 0.661091, train error 25.15,  val loss 0.761903, percent error 27.70\n",
            "Epoch    11, train loss 0.548678, train error 19.65,  val loss 0.640920, percent error 23.90\n",
            "Epoch    12, train loss 0.466431, train error 16.65,  val loss 0.574000, percent error 21.80\n",
            "Epoch    13, train loss 0.420246, train error 14.95,  val loss 0.546843, percent error 20.40\n",
            "Epoch    14, train loss 0.450102, train error 16.47,  val loss 0.597972, percent error 21.60\n",
            "Epoch    15, train loss 0.324051, train error 10.90,  val loss 0.452523, percent error 16.40\n",
            "Epoch    16, train loss 0.340672, train error 11.80,  val loss 0.470560, percent error 15.70\n",
            "Epoch    17, train loss 0.307482, train error 10.97,  val loss 0.460671, percent error 16.30\n",
            "Epoch    18, train loss 0.292062, train error 10.80,  val loss 0.470176, percent error 15.70\n",
            "Epoch    19, train loss 0.268278, train error 9.72,  val loss 0.445748, percent error 15.30\n",
            "Epoch    20, train loss 0.199066, train error 6.53,  val loss 0.375239, percent error 12.40\n",
            "Epoch    21, train loss 0.183090, train error 6.35,  val loss 0.369279, percent error 11.20\n",
            "Epoch    22, train loss 0.178220, train error 6.12,  val loss 0.361525, percent error 12.10\n",
            "Epoch    23, train loss 0.159066, train error 5.28,  val loss 0.356520, percent error 11.10\n",
            "Epoch    24, train loss 0.186102, train error 6.03,  val loss 0.420542, percent error 13.00\n",
            "Epoch    25, train loss 0.151645, train error 5.22,  val loss 0.371242, percent error 11.30\n",
            "Epoch    26, train loss 0.145765, train error 4.97,  val loss 0.370073, percent error 11.40\n",
            "Epoch    27, train loss 0.137111, train error 4.60,  val loss 0.372137, percent error 10.80\n",
            "Epoch    28, train loss 0.163365, train error 6.32,  val loss 0.393516, percent error 11.50\n",
            "Epoch    29, train loss 0.125802, train error 4.15,  val loss 0.364989, percent error 10.40\n",
            "Epoch    30, train loss 0.135513, train error 4.97,  val loss 0.384122, percent error 10.40\n",
            "Epoch    31, train loss 0.114730, train error 3.38,  val loss 0.350946, percent error 10.00\n",
            "Epoch    32, train loss 0.130946, train error 5.00,  val loss 0.387883, percent error 11.60\n",
            "Epoch    33, train loss 0.109333, train error 3.65,  val loss 0.370428, percent error 10.20\n",
            "Epoch    34, train loss 0.101606, train error 3.18,  val loss 0.347474, percent error 10.00\n",
            "Epoch    35, train loss 0.098679, train error 3.20,  val loss 0.356289, percent error 10.80\n",
            "Epoch    36, train loss 0.088788, train error 2.70,  val loss 0.379146, percent error 10.90\n",
            "Epoch    37, train loss 0.095186, train error 2.90,  val loss 0.387584, percent error 9.30\n",
            "Epoch    38, train loss 0.100518, train error 3.25,  val loss 0.389324, percent error 9.60\n",
            "Epoch    39, train loss 0.087153, train error 2.65,  val loss 0.366251, percent error 10.30\n",
            "Epoch    40, train loss 0.063929, train error 1.68,  val loss 0.358852, percent error 9.80\n",
            "Epoch    41, train loss 0.061845, train error 1.60,  val loss 0.363593, percent error 9.60\n",
            "Epoch    42, train loss 0.065492, train error 2.03,  val loss 0.365522, percent error 10.20\n",
            "Epoch    43, train loss 0.063547, train error 1.62,  val loss 0.361787, percent error 9.60\n",
            "Epoch    44, train loss 0.059144, train error 1.57,  val loss 0.358054, percent error 9.90\n",
            "Epoch    45, train loss 0.054410, train error 1.28,  val loss 0.362674, percent error 9.70\n",
            "Epoch    46, train loss 0.055391, train error 1.32,  val loss 0.371062, percent error 10.30\n",
            "Epoch    47, train loss 0.057214, train error 1.50,  val loss 0.374276, percent error 9.90\n",
            "Epoch    48, train loss 0.054639, train error 1.47,  val loss 0.382181, percent error 9.80\n",
            "Epoch    49, train loss 0.049526, train error 1.10,  val loss 0.376793, percent error 9.70\n",
            "Epoch    50, train loss 0.049399, train error 1.12,  val loss 0.378967, percent error 10.00\n",
            "Epoch    51, train loss 0.049986, train error 1.25,  val loss 0.371261, percent error 9.60\n",
            "Epoch    52, train loss 0.047245, train error 1.12,  val loss 0.395777, percent error 10.30\n",
            "Epoch    53, train loss 0.049134, train error 1.18,  val loss 0.388160, percent error 9.60\n",
            "Epoch    54, train loss 0.048235, train error 1.18,  val loss 0.394695, percent error 9.80\n",
            "Epoch    55, train loss 0.048223, train error 1.12,  val loss 0.389938, percent error 9.70\n",
            "Epoch    56, train loss 0.041672, train error 0.78,  val loss 0.385968, percent error 9.70\n",
            "Epoch    57, train loss 0.041486, train error 0.82,  val loss 0.401702, percent error 9.70\n",
            "Epoch    58, train loss 0.041627, train error 0.88,  val loss 0.399066, percent error 9.80\n",
            "Epoch    59, train loss 0.040842, train error 0.68,  val loss 0.395332, percent error 9.90\n",
            "Epoch    60, train loss 0.037382, train error 0.75,  val loss 0.399945, percent error 9.90\n",
            "Epoch    61, train loss 0.036739, train error 0.62,  val loss 0.401304, percent error 9.50\n",
            "Epoch    62, train loss 0.035406, train error 0.65,  val loss 0.403745, percent error 10.00\n",
            "Epoch    63, train loss 0.037290, train error 0.72,  val loss 0.407794, percent error 9.70\n",
            "Epoch    64, train loss 0.036633, train error 0.62,  val loss 0.401228, percent error 9.70\n",
            "Epoch    65, train loss 0.034432, train error 0.68,  val loss 0.405326, percent error 10.00\n",
            "Epoch    66, train loss 0.034537, train error 0.68,  val loss 0.404062, percent error 9.60\n",
            "Epoch    67, train loss 0.034484, train error 0.50,  val loss 0.415902, percent error 10.10\n",
            "Epoch    68, train loss 0.034374, train error 0.65,  val loss 0.416025, percent error 9.70\n",
            "Epoch    69, train loss 0.033469, train error 0.55,  val loss 0.410923, percent error 9.80\n",
            "Epoch    70, train loss 0.032423, train error 0.50,  val loss 0.416807, percent error 9.80\n",
            "Epoch    71, train loss 0.032589, train error 0.45,  val loss 0.416555, percent error 10.40\n",
            "Epoch    72, train loss 0.031107, train error 0.40,  val loss 0.416805, percent error 9.90\n",
            "Epoch    73, train loss 0.032884, train error 0.53,  val loss 0.407840, percent error 9.50\n",
            "Epoch    74, train loss 0.030804, train error 0.47,  val loss 0.419222, percent error 10.00\n",
            "Epoch    75, train loss 0.031779, train error 0.55,  val loss 0.420630, percent error 9.70\n",
            "Epoch    76, train loss 0.030675, train error 0.43,  val loss 0.426846, percent error 10.20\n",
            "Epoch    77, train loss 0.031395, train error 0.50,  val loss 0.418161, percent error 9.50\n",
            "Epoch    78, train loss 0.030007, train error 0.47,  val loss 0.419799, percent error 9.90\n",
            "Epoch    79, train loss 0.032284, train error 0.55,  val loss 0.416579, percent error 9.80\n",
            "Epoch    80, train loss 0.028960, train error 0.40,  val loss 0.422617, percent error 9.50\n",
            "Epoch    81, train loss 0.028961, train error 0.35,  val loss 0.425620, percent error 9.90\n",
            "Epoch    82, train loss 0.028425, train error 0.30,  val loss 0.426680, percent error 10.10\n",
            "Epoch    83, train loss 0.028498, train error 0.43,  val loss 0.424582, percent error 9.80\n",
            "Epoch    84, train loss 0.028075, train error 0.32,  val loss 0.424239, percent error 9.60\n",
            "Epoch    85, train loss 0.028679, train error 0.45,  val loss 0.422981, percent error 9.60\n",
            "Epoch    86, train loss 0.027526, train error 0.32,  val loss 0.428847, percent error 9.90\n",
            "Epoch    87, train loss 0.027689, train error 0.35,  val loss 0.426703, percent error 9.60\n",
            "Epoch    88, train loss 0.027780, train error 0.43,  val loss 0.425464, percent error 9.70\n",
            "Epoch    89, train loss 0.027218, train error 0.38,  val loss 0.427781, percent error 9.80\n",
            "Epoch    90, train loss 0.027090, train error 0.25,  val loss 0.431048, percent error 10.00\n",
            "Epoch    91, train loss 0.026812, train error 0.35,  val loss 0.429758, percent error 9.80\n",
            "Epoch    92, train loss 0.026591, train error 0.30,  val loss 0.431471, percent error 10.00\n",
            "Epoch    93, train loss 0.026386, train error 0.28,  val loss 0.432060, percent error 10.00\n",
            "Epoch    94, train loss 0.026831, train error 0.32,  val loss 0.432978, percent error 9.70\n",
            "Epoch    95, train loss 0.026481, train error 0.28,  val loss 0.431605, percent error 9.80\n",
            "Epoch    96, train loss 0.026117, train error 0.32,  val loss 0.436159, percent error 9.70\n",
            "Epoch    97, train loss 0.025803, train error 0.22,  val loss 0.436784, percent error 9.80\n",
            "Epoch    98, train loss 0.025778, train error 0.28,  val loss 0.434969, percent error 9.80\n",
            "Epoch    99, train loss 0.025807, train error 0.32,  val loss 0.437369, percent error 9.70\n"
          ]
        },
        {
          "output_type": "display_data",
          "data": {
            "text/plain": [
              "<Figure size 640x480 with 1 Axes>"
            ],
            "image/png": "[encoded data removed]"
          },
          "metadata": {}
        }
      ]
    }
  ]
}