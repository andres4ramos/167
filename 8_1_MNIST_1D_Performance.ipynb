{
  "cells": [
    {
      "cell_type": "markdown",
      "metadata": {
        "id": "view-in-github",
        "colab_type": "text"
      },
      "source": [
        "<a href=\"https://colab.research.google.com/github/andres4ramos/167/blob/main/8_1_MNIST_1D_Performance.ipynb\" target=\"_parent\"><img src=\"https://colab.research.google.com/assets/colab-badge.svg\" alt=\"Open In Colab\"/></a>"
      ]
    },
    {
      "cell_type": "markdown",
      "metadata": {
        "id": "L6chybAVFJW2"
      },
      "source": [
        "# **Notebook 8.1: MNIST_1D_Performance**\n",
        "\n",
        "This notebook runs a simple neural network on the MNIST1D dataset as in figure 8.2a. It uses code from https://github.com/greydanus/mnist1d to generate the data.\n",
        "\n",
        "Work through the cells below, running each cell in turn. In various places you will see the words \"TO DO\". Follow the instructions at these places and make predictions about what is going to happen or write code to complete the functions.\n",
        "\n",
        "Contact me at udlbookmail@gmail.com if you find any mistakes or have any suggestions."
      ]
    },
    {
      "cell_type": "code",
      "execution_count": 5,
      "metadata": {
        "id": "ifVjS4cTOqKz",
        "outputId": "622392bd-00ce-4ecc-c208-0baf959ad0be",
        "colab": {
          "base_uri": "https://localhost:8080/"
        }
      },
      "outputs": [
        {
          "output_type": "stream",
          "name": "stdout",
          "text": [
            "Collecting git+https://github.com/greydanus/mnist1d\n",
            "  Cloning https://github.com/greydanus/mnist1d to /tmp/pip-req-build-ukmu087h\n",
            "  Running command git clone --filter=blob:none --quiet https://github.com/greydanus/mnist1d /tmp/pip-req-build-ukmu087h\n",
            "  Resolved https://github.com/greydanus/mnist1d to commit 68cb6b2d1d3a956cc2e9035e5a9860b66e33d642\n",
            "  Installing build dependencies ... \u001b[?25l\u001b[?25hdone\n",
            "  Getting requirements to build wheel ... \u001b[?25l\u001b[?25hdone\n",
            "  Preparing metadata (pyproject.toml) ... \u001b[?25l\u001b[?25hdone\n",
            "Requirement already satisfied: requests in /usr/local/lib/python3.10/dist-packages (from mnist1d==0.0.2.post15) (2.32.3)\n",
            "Requirement already satisfied: numpy in /usr/local/lib/python3.10/dist-packages (from mnist1d==0.0.2.post15) (1.26.4)\n",
            "Requirement already satisfied: matplotlib in /usr/local/lib/python3.10/dist-packages (from mnist1d==0.0.2.post15) (3.7.1)\n",
            "Requirement already satisfied: scipy in /usr/local/lib/python3.10/dist-packages (from mnist1d==0.0.2.post15) (1.13.1)\n",
            "Requirement already satisfied: contourpy>=1.0.1 in /usr/local/lib/python3.10/dist-packages (from matplotlib->mnist1d==0.0.2.post15) (1.3.0)\n",
            "Requirement already satisfied: cycler>=0.10 in /usr/local/lib/python3.10/dist-packages (from matplotlib->mnist1d==0.0.2.post15) (0.12.1)\n",
            "Requirement already satisfied: fonttools>=4.22.0 in /usr/local/lib/python3.10/dist-packages (from matplotlib->mnist1d==0.0.2.post15) (4.54.1)\n",
            "Requirement already satisfied: kiwisolver>=1.0.1 in /usr/local/lib/python3.10/dist-packages (from matplotlib->mnist1d==0.0.2.post15) (1.4.7)\n",
            "Requirement already satisfied: packaging>=20.0 in /usr/local/lib/python3.10/dist-packages (from matplotlib->mnist1d==0.0.2.post15) (24.1)\n",
            "Requirement already satisfied: pillow>=6.2.0 in /usr/local/lib/python3.10/dist-packages (from matplotlib->mnist1d==0.0.2.post15) (10.4.0)\n",
            "Requirement already satisfied: pyparsing>=2.3.1 in /usr/local/lib/python3.10/dist-packages (from matplotlib->mnist1d==0.0.2.post15) (3.1.4)\n",
            "Requirement already satisfied: python-dateutil>=2.7 in /usr/local/lib/python3.10/dist-packages (from matplotlib->mnist1d==0.0.2.post15) (2.8.2)\n",
            "Requirement already satisfied: charset-normalizer<4,>=2 in /usr/local/lib/python3.10/dist-packages (from requests->mnist1d==0.0.2.post15) (3.3.2)\n",
            "Requirement already satisfied: idna<4,>=2.5 in /usr/local/lib/python3.10/dist-packages (from requests->mnist1d==0.0.2.post15) (3.10)\n",
            "Requirement already satisfied: urllib3<3,>=1.21.1 in /usr/local/lib/python3.10/dist-packages (from requests->mnist1d==0.0.2.post15) (2.2.3)\n",
            "Requirement already satisfied: certifi>=2017.4.17 in /usr/local/lib/python3.10/dist-packages (from requests->mnist1d==0.0.2.post15) (2024.8.30)\n",
            "Requirement already satisfied: six>=1.5 in /usr/local/lib/python3.10/dist-packages (from python-dateutil>=2.7->matplotlib->mnist1d==0.0.2.post15) (1.16.0)\n"
          ]
        }
      ],
      "source": [
        "# Run this if you're in a Colab to install MNIST 1D repository\n",
        "%pip install git+https://github.com/greydanus/mnist1d"
      ]
    },
    {
      "cell_type": "code",
      "execution_count": 3,
      "metadata": {
        "id": "qyE7G1StPIqO"
      },
      "outputs": [],
      "source": [
        "import torch, torch.nn as nn\n",
        "from torch.utils.data import TensorDataset, DataLoader\n",
        "from torch.optim.lr_scheduler import StepLR\n",
        "import numpy as np\n",
        "import matplotlib.pyplot as plt\n",
        "import mnist1d"
      ]
    },
    {
      "cell_type": "markdown",
      "metadata": {
        "id": "F7LNq72SP6jO"
      },
      "source": [
        "Let's generate a training and test dataset using the MNIST1D code.  The dataset gets saved as a .pkl file so it doesn't have to be regenerated each time."
      ]
    },
    {
      "cell_type": "code",
      "execution_count": 4,
      "metadata": {
        "id": "YLxf7dJfPaqw",
        "colab": {
          "base_uri": "https://localhost:8080/"
        },
        "outputId": "5c304fc4-472f-4da4-dbf6-5e497b3666de"
      },
      "outputs": [
        {
          "output_type": "stream",
          "name": "stdout",
          "text": [
            "Did or could not load data from ./mnist1d_data.pkl. Rebuilding dataset...\n",
            "Examples in training set: 4000\n",
            "Examples in test set: 1000\n",
            "Length of each example: 40\n"
          ]
        }
      ],
      "source": [
        "args = mnist1d.data.get_dataset_args()\n",
        "data = mnist1d.data.get_dataset(args, path='./mnist1d_data.pkl', download=False, regenerate=False)\n",
        "\n",
        "# The training and test input and outputs are in\n",
        "# data['x'], data['y'], data['x_test'], and data['y_test']\n",
        "print(\"Examples in training set: {}\".format(len(data['y'])))\n",
        "print(\"Examples in test set: {}\".format(len(data['y_test'])))\n",
        "print(\"Length of each example: {}\".format(data['x'].shape[-1]))"
      ]
    },
    {
      "cell_type": "code",
      "execution_count": 7,
      "metadata": {
        "id": "FxaB5vc0uevl",
        "colab": {
          "base_uri": "https://localhost:8080/"
        },
        "outputId": "db289e6a-8a7b-4498-d2b8-46ab06559f7a"
      },
      "outputs": [
        {
          "output_type": "stream",
          "name": "stdout",
          "text": [
            "Initializing layer: Linear(in_features=40, out_features=100, bias=True)\n",
            "Initializing layer: ReLU()\n",
            "Initializing layer: Linear(in_features=100, out_features=100, bias=True)\n",
            "Initializing layer: ReLU()\n",
            "Initializing layer: Linear(in_features=100, out_features=10, bias=True)\n",
            "Initializing layer: Sequential(\n",
            "  (0): Linear(in_features=40, out_features=100, bias=True)\n",
            "  (1): ReLU()\n",
            "  (2): Linear(in_features=100, out_features=100, bias=True)\n",
            "  (3): ReLU()\n",
            "  (4): Linear(in_features=100, out_features=10, bias=True)\n",
            ")\n"
          ]
        },
        {
          "output_type": "execute_result",
          "data": {
            "text/plain": [
              "Sequential(\n",
              "  (0): Linear(in_features=40, out_features=100, bias=True)\n",
              "  (1): ReLU()\n",
              "  (2): Linear(in_features=100, out_features=100, bias=True)\n",
              "  (3): ReLU()\n",
              "  (4): Linear(in_features=100, out_features=10, bias=True)\n",
              ")"
            ]
          },
          "metadata": {},
          "execution_count": 7
        }
      ],
      "source": [
        "D_i = 40    # Input dimensions\n",
        "D_k = 100   # Hidden dimensions\n",
        "D_o = 10    # Output dimensions\n",
        "\n",
        "# Define a model with two hidden layers of size 100 and ReLU activations between them\n",
        "# Replace this line (see Figure 7.8 of book for help):\n",
        "model = torch.nn.Sequential(\n",
        "    torch.nn.Linear(D_i, D_k),    # Input to first hidden layer\n",
        "    torch.nn.ReLU(),              # ReLU activation\n",
        "    torch.nn.Linear(D_k, D_k),    # First hidden to second hidden layer\n",
        "    torch.nn.ReLU(),              # ReLU activation\n",
        "    torch.nn.Linear(D_k, D_o)     # Second hidden to output layer\n",
        ")\n",
        "\n",
        "def weights_init(layer_in):\n",
        "    # Initialize the parameters with He initialization\n",
        "    if isinstance(layer_in, torch.nn.Linear):\n",
        "        torch.nn.init.kaiming_normal_(layer_in.weight, nonlinearity='relu')\n",
        "        if layer_in.bias is not None:\n",
        "            torch.nn.init.zeros_(layer_in.bias)\n",
        "    print(f\"Initializing layer: {layer_in}\")\n",
        "\n",
        "# Call the function you just defined\n",
        "model.apply(weights_init)\n"
      ]
    },
    {
      "cell_type": "code",
      "execution_count": 10,
      "metadata": {
        "id": "_rX6N3VyyQTY",
        "colab": {
          "base_uri": "https://localhost:8080/"
        },
        "outputId": "c0ac5ceb-d27b-4702-d8f7-d551ba6989db"
      },
      "outputs": [
        {
          "output_type": "stream",
          "name": "stdout",
          "text": [
            "Initializing layer: Linear(in_features=40, out_features=100, bias=True)\n",
            "Initializing layer: ReLU()\n",
            "Initializing layer: Linear(in_features=100, out_features=100, bias=True)\n",
            "Initializing layer: ReLU()\n",
            "Initializing layer: Linear(in_features=100, out_features=10, bias=True)\n",
            "Initializing layer: Sequential(\n",
            "  (0): Linear(in_features=40, out_features=100, bias=True)\n",
            "  (1): ReLU()\n",
            "  (2): Linear(in_features=100, out_features=100, bias=True)\n",
            "  (3): ReLU()\n",
            "  (4): Linear(in_features=100, out_features=10, bias=True)\n",
            ")\n",
            "Epoch     0, train loss 2.067737, train error 77.57, test loss 2.079963, test error 79.80\n",
            "Epoch     1, train loss 1.859806, train error 71.05, test loss 1.892985, test error 74.40\n",
            "Epoch     2, train loss 1.750740, train error 66.95, test loss 1.798964, test error 71.90\n",
            "Epoch     3, train loss 1.679461, train error 64.03, test loss 1.741348, test error 69.30\n",
            "Epoch     4, train loss 1.625199, train error 61.30, test loss 1.699172, test error 68.00\n",
            "Epoch     5, train loss 1.580655, train error 59.35, test loss 1.665973, test error 66.50\n",
            "Epoch     6, train loss 1.542102, train error 57.70, test loss 1.638258, test error 65.20\n",
            "Epoch     7, train loss 1.506844, train error 55.92, test loss 1.612998, test error 64.00\n",
            "Epoch     8, train loss 1.473747, train error 54.28, test loss 1.589520, test error 62.70\n",
            "Epoch     9, train loss 1.442369, train error 52.65, test loss 1.567963, test error 62.40\n",
            "Epoch    10, train loss 1.423052, train error 51.65, test loss 1.556205, test error 62.30\n",
            "Epoch    11, train loss 1.407916, train error 50.92, test loss 1.545887, test error 61.70\n",
            "Epoch    12, train loss 1.393018, train error 50.30, test loss 1.535679, test error 61.20\n",
            "Epoch    13, train loss 1.378416, train error 49.65, test loss 1.525699, test error 60.90\n",
            "Epoch    14, train loss 1.364116, train error 48.90, test loss 1.515914, test error 60.30\n",
            "Epoch    15, train loss 1.350039, train error 48.35, test loss 1.506222, test error 59.70\n",
            "Epoch    16, train loss 1.336087, train error 47.58, test loss 1.496745, test error 58.90\n",
            "Epoch    17, train loss 1.322384, train error 46.92, test loss 1.487435, test error 58.60\n",
            "Epoch    18, train loss 1.308974, train error 46.38, test loss 1.478616, test error 58.30\n",
            "Epoch    19, train loss 1.295809, train error 45.62, test loss 1.469888, test error 58.20\n",
            "Epoch    20, train loss 1.288402, train error 45.38, test loss 1.465111, test error 57.70\n",
            "Epoch    21, train loss 1.281926, train error 44.92, test loss 1.460765, test error 57.90\n",
            "Epoch    22, train loss 1.275526, train error 44.65, test loss 1.456499, test error 57.80\n",
            "Epoch    23, train loss 1.269157, train error 44.47, test loss 1.452258, test error 57.90\n",
            "Epoch    24, train loss 1.262830, train error 44.28, test loss 1.448104, test error 57.90\n",
            "Epoch    25, train loss 1.256555, train error 44.03, test loss 1.444031, test error 57.30\n",
            "Epoch    26, train loss 1.250333, train error 43.78, test loss 1.439985, test error 57.00\n",
            "Epoch    27, train loss 1.244173, train error 43.47, test loss 1.436020, test error 56.70\n",
            "Epoch    28, train loss 1.238067, train error 43.42, test loss 1.432072, test error 56.30\n",
            "Epoch    29, train loss 1.231981, train error 43.17, test loss 1.428123, test error 56.00\n",
            "Epoch    30, train loss 1.228644, train error 43.17, test loss 1.425882, test error 56.30\n",
            "Epoch    31, train loss 1.225610, train error 43.12, test loss 1.423908, test error 56.50\n",
            "Epoch    32, train loss 1.222602, train error 43.05, test loss 1.421942, test error 56.60\n",
            "Epoch    33, train loss 1.219611, train error 42.92, test loss 1.419993, test error 56.10\n",
            "Epoch    34, train loss 1.216633, train error 42.85, test loss 1.418064, test error 55.70\n",
            "Epoch    35, train loss 1.213668, train error 42.67, test loss 1.416164, test error 55.70\n",
            "Epoch    36, train loss 1.210722, train error 42.50, test loss 1.414264, test error 55.60\n",
            "Epoch    37, train loss 1.207784, train error 42.53, test loss 1.412381, test error 55.80\n",
            "Epoch    38, train loss 1.204859, train error 42.47, test loss 1.410496, test error 55.70\n",
            "Epoch    39, train loss 1.201943, train error 42.42, test loss 1.408636, test error 55.60\n",
            "Epoch    40, train loss 1.200402, train error 42.42, test loss 1.407675, test error 55.60\n",
            "Epoch    41, train loss 1.198930, train error 42.38, test loss 1.406730, test error 55.40\n",
            "Epoch    42, train loss 1.197478, train error 42.28, test loss 1.405797, test error 55.40\n",
            "Epoch    43, train loss 1.196031, train error 42.17, test loss 1.404883, test error 55.30\n",
            "Epoch    44, train loss 1.194589, train error 42.15, test loss 1.403977, test error 55.30\n",
            "Epoch    45, train loss 1.193152, train error 42.12, test loss 1.403074, test error 55.30\n",
            "Epoch    46, train loss 1.191718, train error 42.05, test loss 1.402166, test error 55.20\n",
            "Epoch    47, train loss 1.190284, train error 41.95, test loss 1.401269, test error 55.50\n",
            "Epoch    48, train loss 1.188851, train error 41.95, test loss 1.400365, test error 55.30\n",
            "Epoch    49, train loss 1.187421, train error 41.83, test loss 1.399465, test error 55.30\n"
          ]
        }
      ],
      "source": [
        "loss_function = torch.nn.CrossEntropyLoss()\n",
        "optimizer = torch.optim.SGD(model.parameters(), lr=0.01, momentum=0.8)\n",
        "scheduler = StepLR(optimizer, step_size=10, gamma=0.5)\n",
        "x_train = torch.tensor(data['x'].astype('float32'))\n",
        "y_train = torch.tensor(data['y'].transpose().astype('int64'))\n",
        "x_test = torch.tensor(data['x_test'].astype('float32'))\n",
        "y_test = torch.tensor(data['y_test'].astype('int64'))\n",
        "\n",
        "data_loader = DataLoader(TensorDataset(x_train, y_train), batch_size=128, shuffle=False, worker_init_fn=np.random.seed(1))\n",
        "\n",
        "model.apply(weights_init)\n",
        "\n",
        "n_epoch = 50\n",
        "losses_train = np.zeros((n_epoch))\n",
        "errors_train = np.zeros((n_epoch))\n",
        "losses_test = np.zeros((n_epoch))\n",
        "errors_test = np.zeros((n_epoch))\n",
        "\n",
        "for epoch in range(n_epoch):\n",
        "    for i, batch in enumerate(data_loader):\n",
        "        x_batch, y_batch = batch\n",
        "        optimizer.zero_grad()\n",
        "        pred = model(x_batch)\n",
        "        loss = loss_function(pred, y_batch)\n",
        "        loss.backward()\n",
        "        optimizer.step()\n",
        "\n",
        "    pred_train = model(x_train)\n",
        "    pred_test = model(x_test)\n",
        "    _, predicted_train_class = torch.max(pred_train.data, 1)\n",
        "    _, predicted_test_class = torch.max(pred_test.data, 1)\n",
        "    errors_train[epoch] = 100 - 100 * (predicted_train_class == y_train).float().sum() / len(y_train)\n",
        "    errors_test[epoch] = 100 - 100 * (predicted_test_class == y_test).float().sum() / len(y_test)\n",
        "    losses_train[epoch] = loss_function(pred_train, y_train).item()\n",
        "    losses_test[epoch] = loss_function(pred_test, y_test).item()\n",
        "    print(f'Epoch {epoch:5d}, train loss {losses_train[epoch]:.6f}, train error {errors_train[epoch]:3.2f}, test loss {losses_test[epoch]:.6f}, test error {errors_test[epoch]:3.2f}')\n",
        "\n",
        "    scheduler.step()\n"
      ]
    },
    {
      "cell_type": "code",
      "execution_count": 11,
      "metadata": {
        "id": "yI-l6kA_EH9G",
        "colab": {
          "base_uri": "https://localhost:8080/",
          "height": 927
        },
        "outputId": "14965e12-f096-4568-cb0b-834c7b123cd4"
      },
      "outputs": [
        {
          "output_type": "display_data",
          "data": {
            "text/plain": [
              "<Figure size 640x480 with 1 Axes>"
            ],
            "image/png": "[encoded data removed]"
          },
          "metadata": {}
        },
        {
          "output_type": "display_data",
          "data": {
            "text/plain": [
              "<Figure size 640x480 with 1 Axes>"
            ],
            "image/png": "[encoded data removed]"
          },
          "metadata": {}
        }
      ],
      "source": [
        "# Plot the results\n",
        "fig, ax = plt.subplots()\n",
        "ax.plot(errors_train,'r-',label='train')\n",
        "ax.plot(errors_test,'b-',label='test')\n",
        "ax.set_ylim(0,100); ax.set_xlim(0,n_epoch)\n",
        "ax.set_xlabel('Epoch'); ax.set_ylabel('Error')\n",
        "ax.set_title('TrainError %3.2f, Test Error %3.2f'%(errors_train[-1],errors_test[-1]))\n",
        "ax.legend()\n",
        "plt.show()\n",
        "\n",
        "# Plot the results\n",
        "fig, ax = plt.subplots()\n",
        "ax.plot(losses_train,'r-',label='train')\n",
        "ax.plot(losses_test,'b-',label='test')\n",
        "ax.set_xlim(0,n_epoch)\n",
        "ax.set_xlabel('Epoch'); ax.set_ylabel('Loss')\n",
        "ax.set_title('Train loss %3.2f, Test loss %3.2f'%(losses_train[-1],losses_test[-1]))\n",
        "ax.legend()\n",
        "plt.show()"
      ]
    },
    {
      "cell_type": "markdown",
      "metadata": {
        "id": "q-yT6re6GZS4"
      },
      "source": [
        "**TO DO**\n",
        "\n",
        "Play with the model -- try changing the number of layers, hidden units, learning rate, batch size, momentum or anything else you like.  See if you can improve the test results.\n",
        "\n",
        "Is it a good idea to optimize the hyperparameters in this way?  Will the final result be a good estimate of the true test performance?\n",
        "\n",
        "Answer:Manually adjusting settings like learning rate and momentum can help, but it might not show how well the model will really work. Using cross-validation is a better way to see if the model will perform well on new data.\n",
        "\n",
        "\n",
        "\n",
        "\n",
        "\n",
        "\n"
      ]
    },
    {
      "cell_type": "code",
      "source": [],
      "metadata": {
        "id": "Beg8SqzPCWG1"
      },
      "execution_count": 11,
      "outputs": []
    }
  ],
  "metadata": {
    "accelerator": "GPU",
    "colab": {
      "gpuType": "T4",
      "provenance": [],
      "include_colab_link": true
    },
    "kernelspec": {
      "display_name": "Python 3",
      "name": "python3"
    },
    "language_info": {
      "name": "python"
    }
  },
  "nbformat": 4,
  "nbformat_minor": 0
}